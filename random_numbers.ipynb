{
 "cells": [
  {
   "cell_type": "code",
   "execution_count": 35,
   "id": "5adc0051",
   "metadata": {},
   "outputs": [],
   "source": [
    "# Import the random module.\n",
    "import random"
   ]
  },
  {
   "cell_type": "code",
   "execution_count": 36,
   "id": "36b038cb",
   "metadata": {},
   "outputs": [
    {
     "data": {
      "text/plain": [
       "0.5815650652737471"
      ]
     },
     "execution_count": 36,
     "metadata": {},
     "output_type": "execute_result"
    }
   ],
   "source": [
    "#Generated a floating point (decimal)\n",
    "random.random()\n"
   ]
  },
  {
   "cell_type": "code",
   "execution_count": 37,
   "id": "c40e9cde",
   "metadata": {},
   "outputs": [
    {
     "data": {
      "text/plain": [
       "45"
      ]
     },
     "execution_count": 37,
     "metadata": {},
     "output_type": "execute_result"
    }
   ],
   "source": [
    "random.randint(-90,90)\n"
   ]
  },
  {
   "cell_type": "code",
   "execution_count": 40,
   "id": "5471cac0",
   "metadata": {},
   "outputs": [
    {
     "data": {
      "text/plain": [
       "[5.765249492723696,\n",
       " -54.160651604830704,\n",
       " -49.712212676944944,\n",
       " -14.509587460692579,\n",
       " 10.947667423866783,\n",
       " -72.82698626234755,\n",
       " 41.18915710033147,\n",
       " 81.05115495119564,\n",
       " 42.991382694196595,\n",
       " -12.089619988393316]"
      ]
     },
     "execution_count": 40,
     "metadata": {},
     "output_type": "execute_result"
    }
   ],
   "source": [
    "x = 1\n",
    "latitudes = []\n",
    "while x < 11:\n",
    "    random_lat = random.randint(-90, 89) + random.random()\n",
    "    latitudes.append(random_lat)\n",
    "    x += 1\n",
    "    \n",
    "latitudes"
   ]
  },
  {
   "cell_type": "code",
   "execution_count": 39,
   "id": "66f25e0b",
   "metadata": {},
   "outputs": [
    {
     "data": {
      "text/plain": [
       "-38"
      ]
     },
     "execution_count": 39,
     "metadata": {},
     "output_type": "execute_result"
    }
   ],
   "source": [
    "#generated a integer (Whole number)\n",
    "random.randrange(-90,90, step = 1)"
   ]
  },
  {
   "cell_type": "code",
   "execution_count": 44,
   "id": "00b1aa65",
   "metadata": {},
   "outputs": [
    {
     "data": {
      "text/plain": [
       "-42"
      ]
     },
     "execution_count": 44,
     "metadata": {},
     "output_type": "execute_result"
    }
   ],
   "source": [
    "#generated a integer (Whole number)\n",
    "random.randrange(-90,90, step = 3)"
   ]
  },
  {
   "cell_type": "code",
   "execution_count": 45,
   "id": "403d433f",
   "metadata": {},
   "outputs": [
    {
     "data": {
      "text/plain": [
       "-17.934984385489727"
      ]
     },
     "execution_count": 45,
     "metadata": {},
     "output_type": "execute_result"
    }
   ],
   "source": [
    "#generated a floating point\n",
    "random.uniform(-90,90)"
   ]
  },
  {
   "cell_type": "code",
   "execution_count": 46,
   "id": "8b8c4646",
   "metadata": {},
   "outputs": [],
   "source": [
    "# Import the NumPy module.\n",
    "import numpy as np"
   ]
  },
  {
   "cell_type": "code",
   "execution_count": 47,
   "id": "31ca50f2",
   "metadata": {},
   "outputs": [
    {
     "data": {
      "text/plain": [
       "-66.297982719446"
      ]
     },
     "execution_count": 47,
     "metadata": {},
     "output_type": "execute_result"
    }
   ],
   "source": [
    "np.random.uniform(-90.000, 90.000)"
   ]
  },
  {
   "cell_type": "code",
   "execution_count": 48,
   "id": "b06b1a4f",
   "metadata": {},
   "outputs": [
    {
     "data": {
      "text/plain": [
       "-71.8193151905444"
      ]
     },
     "execution_count": 48,
     "metadata": {},
     "output_type": "execute_result"
    }
   ],
   "source": [
    "np.random.uniform(low=-90, high=90)"
   ]
  },
  {
   "cell_type": "code",
   "execution_count": 49,
   "id": "14347f2e",
   "metadata": {},
   "outputs": [
    {
     "data": {
      "text/plain": [
       "array([-49.17558323,  60.25942457, -27.20233239,  28.52955068,\n",
       "        60.95995435, -86.64335785, -46.01109096, -64.12837236,\n",
       "        16.34378753, -77.99230461,  69.60462095,  68.61447037,\n",
       "       -27.2506693 ,  44.98729585,  53.15948832, -18.83109213,\n",
       "        74.97436656,  38.91662182,  67.93460752,   5.67564994,\n",
       "       -81.75280204,  67.0585493 ,  31.23894968,  30.87239435,\n",
       "       -30.7510508 , -22.1362293 ,  25.88182847, -30.5076728 ,\n",
       "        24.87158989,  18.26809928, -29.2378625 ,  78.00338103,\n",
       "        44.0307664 , -29.01386218,  64.62863213,  16.32244353,\n",
       "       -83.22286762,  48.67086816, -65.03163182,  25.66108938,\n",
       "       -56.84815881,  26.97199612,  24.40538569, -79.62856796,\n",
       "       -41.06905008, -66.17314517,  32.77903844,   5.68072799,\n",
       "       -64.40905574,  82.55239463])"
      ]
     },
     "execution_count": 49,
     "metadata": {},
     "output_type": "execute_result"
    }
   ],
   "source": [
    "np.random.uniform(-90.000, 90.000, size=50)"
   ]
  },
  {
   "cell_type": "code",
   "execution_count": 50,
   "id": "cbebbd05",
   "metadata": {},
   "outputs": [],
   "source": [
    "# Import timeit.\n",
    "import timeit"
   ]
  },
  {
   "cell_type": "code",
   "execution_count": 51,
   "id": "8d468a83",
   "metadata": {},
   "outputs": [
    {
     "data": {
      "text/plain": [
       "array([ 76.19287438, -87.441082  ,  68.81462189, ...,  19.30487308,\n",
       "        70.18184449, -26.5604405 ])"
      ]
     },
     "execution_count": 51,
     "metadata": {},
     "output_type": "execute_result"
    }
   ],
   "source": [
    "np.random.uniform(-90.000, 90.000, size=1500)"
   ]
  },
  {
   "cell_type": "code",
   "execution_count": 61,
   "id": "3e2e1c6b",
   "metadata": {},
   "outputs": [
    {
     "name": "stdout",
     "output_type": "stream",
     "text": [
      "14.6 µs ± 862 ns per loop (mean ± std. dev. of 7 runs, 100000 loops each)\n"
     ]
    }
   ],
   "source": [
    "# Import timeit.\n",
    "import timeit\n",
    "%timeit np.random.uniform(-90.000, 90.000, size=1500)\n"
   ]
  },
  {
   "cell_type": "code",
   "execution_count": 63,
   "id": "cba0ac6a",
   "metadata": {},
   "outputs": [
    {
     "name": "stdout",
     "output_type": "stream",
     "text": [
      "1.25 ms ± 31.5 µs per loop (mean ± std. dev. of 7 runs, 1000 loops each)\n"
     ]
    }
   ],
   "source": [
    "def latitudes(size):\n",
    "    latitudes = []\n",
    "    x = 0\n",
    "    while x < (size):\n",
    "        random_lat = random.randint(-90, 90) + random.random()\n",
    "        latitudes.append(random_lat)\n",
    "        x += 1\n",
    "    return latitudes\n",
    "# Call the function with 1500.\n",
    "%timeit latitudes(1500)"
   ]
  },
  {
   "cell_type": "code",
   "execution_count": null,
   "id": "da01b7d8",
   "metadata": {},
   "outputs": [],
   "source": [
    "def latitudes(size):\n",
    "    latitudes = []\n",
    "    for x in range (0 ,size):\n",
    "        random_lat = random.randint(-90, 90) + random.random()\n",
    "        latitudes.append(random_lat)\n",
    "        x += 1\n",
    "    return latitudes\n",
    "# Call the function with 1500.\n",
    "%timeit latitudes(1500)"
   ]
  }
 ],
 "metadata": {
  "kernelspec": {
   "display_name": "Python 3",
   "language": "python",
   "name": "python3"
  },
  "language_info": {
   "codemirror_mode": {
    "name": "ipython",
    "version": 3
   },
   "file_extension": ".py",
   "mimetype": "text/x-python",
   "name": "python",
   "nbconvert_exporter": "python",
   "pygments_lexer": "ipython3",
   "version": "3.8.8"
  }
 },
 "nbformat": 4,
 "nbformat_minor": 5
}
